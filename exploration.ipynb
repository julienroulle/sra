{
 "cells": [
  {
   "cell_type": "code",
   "execution_count": 1,
   "metadata": {},
   "outputs": [],
   "source": [
    "import pandas as pd"
   ]
  },
  {
   "cell_type": "code",
   "execution_count": 2,
   "metadata": {},
   "outputs": [],
   "source": [
    "url_n1b = \"https://bases.athle.fr/asp.net/liste.aspx?frmbase=resultats&frmmode=1&frmespace=0&frmcompetition=304693&frmposition={}\""
   ]
  },
  {
   "cell_type": "code",
   "execution_count": 4,
   "metadata": {},
   "outputs": [],
   "source": [
    "df = pd.concat(\n",
    "    [\n",
    "        pd.read_html(url_n1b.format(0), skiprows=3)[0],\n",
    "        pd.read_html(url_n1b.format(1), skiprows=2)[0],\n",
    "        pd.read_html(url_n1b.format(2), skiprows=2)[0],\n",
    "        pd.read_html(url_n1b.format(3), skiprows=2)[0],\n",
    "        pd.read_html(url_n1b.format(4), skiprows=2)[0],\n",
    "    ],\n",
    "    ignore_index=True,\n",
    ")\n"
   ]
  },
  {
   "cell_type": "code",
   "execution_count": 10,
   "metadata": {},
   "outputs": [],
   "source": [
    "df = df.drop(columns=[0, 3, 5, 7, 8, 9, 10, 11, 12, 13, 15])\n",
    "df.columns = [\"Discipline\", \"Performance\", \"Athlète\", \"Club\", \"Cotation\", \"Points\"]\n"
   ]
  },
  {
   "cell_type": "code",
   "execution_count": 30,
   "metadata": {},
   "outputs": [],
   "source": [
    "perfs = pd.DataFrame()\n",
    "sports = df.loc[df.Club.str.contains(\"Finale\")]\n",
    "for idx in range(len(sports.index) - 1):\n",
    "    sport = df.iloc[sports.index[idx]].Club.split(\"|\")[0]\n",
    "    # print(sport)\n",
    "    results = df.iloc[sports.index[idx] + 1 : sports.index[idx + 1]].copy()\n",
    "\n",
    "    if \"4 X\" in sport:\n",
    "        continue\n",
    "    #     print(results)\n",
    "    #     for results_idx in range(0, len(results), 2):\n",
    "    #         print(results.iloc[results_idx].Athlète)\n",
    "    #         results.iloc[results_idx].Athlète = results.iloc[results_idx + 1].Athlète\n",
    "    #     results = results.iloc[::2]\n",
    "    if (\n",
    "        \"Javelot\" in sport\n",
    "        or \"Hauteur\" in sport\n",
    "        or \"Perche\" in sport\n",
    "        or \"Triple\" in sport\n",
    "        or \"Longueur\" in sport\n",
    "        or \"Poids\" in sport\n",
    "        or \"Disque\" in sport\n",
    "        or \"Marteau\" in sport\n",
    "    ):\n",
    "        results = results.loc[~results.Performance.isna()]\n",
    "    results[\"Discipline\"] = [sport] * len(results)\n",
    "    perfs = pd.concat([perfs, results], ignore_index=True)\n"
   ]
  },
  {
   "cell_type": "code",
   "execution_count": 31,
   "metadata": {},
   "outputs": [],
   "source": [
    "perfs_club = perfs.loc[\n",
    "    perfs.Club.str.lower().str.startswith(\"stade rennais athletisme\")\n",
    "].copy()\n",
    "perfs_club.Points = perfs_club.Points.fillna(0)\n",
    "perfs_club.Points = perfs_club.Points.astype(int)\n"
   ]
  },
  {
   "cell_type": "code",
   "execution_count": 35,
   "metadata": {},
   "outputs": [
    {
     "data": {
      "text/plain": [
       "['COLLET Travis',\n",
       " 'QUILLET Shawna',\n",
       " 'THOMAS Geoffrey',\n",
       " 'MOSER Manon',\n",
       " 'BASSET Allan',\n",
       " 'FREART Diane',\n",
       " 'PINTAPARY Evan',\n",
       " 'PEYSSON Elise',\n",
       " 'PRUVOST Malo',\n",
       " 'MOY Julien',\n",
       " 'DUTARTE Tristan',\n",
       " 'GALAS Yassin',\n",
       " 'BEAUGENDRE Alexis',\n",
       " 'PHILIPPE Clara',\n",
       " 'PRIGENT Malo',\n",
       " 'FURSTOSS Bastien',\n",
       " 'BEAUFILS Tristan',\n",
       " 'TANIC Axel',\n",
       " 'MONNERAIS Gabrielle',\n",
       " 'PERRUSSEL Alana',\n",
       " 'SALON Lucien',\n",
       " 'BRIERE Edana',\n",
       " 'TOULLIER Jeanne',\n",
       " 'BEAUGENDRE Adrien',\n",
       " 'LE TULZO Anais',\n",
       " 'EL OUARDI Hamza',\n",
       " 'SEGALOU Anouk',\n",
       " 'HODOUL Maxime',\n",
       " 'MANSILA Betuel',\n",
       " 'CLEMENT Nelson',\n",
       " 'RANNOU Gabrielle',\n",
       " 'EL MOUALY Anissa',\n",
       " 'MOREAC Lucie',\n",
       " 'HILAIRE Jerry',\n",
       " 'LOUHAICHI Mehdi',\n",
       " 'WYCKENS Noalig',\n",
       " 'ADAINE JEAN-PIERRE Elodie',\n",
       " 'LOUISE Gabin',\n",
       " 'LEVALOIS Lilian',\n",
       " 'TAUDIERE Simon',\n",
       " 'CLECH Eva',\n",
       " 'TROHEL Jeanne',\n",
       " 'ZONGO Glen',\n",
       " 'BASSET Ophelie',\n",
       " 'RENAULT Gwenaelle',\n",
       " 'PRIMA Gaspard',\n",
       " 'PERESSE Philippine',\n",
       " 'MORICE Thibo',\n",
       " 'LEFRANC Anais',\n",
       " 'VETIER Gireg',\n",
       " 'TIPHAIGNE Romain',\n",
       " 'VERHARNE Lea',\n",
       " 'JEGOUSSE Lea',\n",
       " 'DUCHEMIN Mickael',\n",
       " 'BURNEL Lily',\n",
       " 'PORQUET Alexandre',\n",
       " 'GALLAIS Bastien',\n",
       " 'RIOUX Yann',\n",
       " 'NAYL Capucine',\n",
       " 'POPHILLAT Louise',\n",
       " 'ARNAUD-BATTANDIER Iris',\n",
       " 'HABERT Olivier',\n",
       " 'JOURDEN Thierry',\n",
       " 'DJIAN Soliane',\n",
       " 'LE CALVE Clara',\n",
       " 'BELGARDE Marina',\n",
       " 'MAINCENT Elisa',\n",
       " 'JANVIER Lisa',\n",
       " 'BEAUVY-MASSON Lena',\n",
       " 'GUILLO Arzhelenn',\n",
       " 'ROULLE Julien',\n",
       " 'JEAN Melvyn',\n",
       " 'MERCEREAU Louise',\n",
       " 'DETANTE Adrien',\n",
       " 'BOUTHELOUP Marie',\n",
       " 'ROLLAND DERRIEN Arthur',\n",
       " 'MEINVIELLE Arnaud',\n",
       " 'CANTAT Titouan',\n",
       " 'JEGOUSSE Christophe',\n",
       " 'LAMPE Sandra',\n",
       " 'BOUSSAMBA ALIBALA Esther Merryl',\n",
       " 'MAMBA SCHLICK Hugo',\n",
       " 'COUCHOT Sara',\n",
       " 'LAWSON Ecclesiaste',\n",
       " 'POUSSIER Hugo',\n",
       " 'GUEVELLOU Anna',\n",
       " 'DRILA Kevin',\n",
       " 'RAMOTHE Thibault',\n",
       " 'LAMIRAL Valentine',\n",
       " 'COUPLIERE Keriwen',\n",
       " 'HELAUDAIS Annabelle',\n",
       " 'MEINVIELLE Jacques',\n",
       " 'GUILBERT Fantine',\n",
       " 'DESSENNES-VOLTINE Kris']"
      ]
     },
     "execution_count": 35,
     "metadata": {},
     "output_type": "execute_result"
    }
   ],
   "source": [
    "perfs_club.sort_values(\"Points\", ascending=False).Athlète.unique().tolist()\n"
   ]
  },
  {
   "cell_type": "code",
   "execution_count": null,
   "metadata": {},
   "outputs": [],
   "source": []
  }
 ],
 "metadata": {
  "kernelspec": {
   "display_name": ".venv",
   "language": "python",
   "name": "python3"
  },
  "language_info": {
   "codemirror_mode": {
    "name": "ipython",
    "version": 3
   },
   "file_extension": ".py",
   "mimetype": "text/x-python",
   "name": "python",
   "nbconvert_exporter": "python",
   "pygments_lexer": "ipython3",
   "version": "3.12.0"
  }
 },
 "nbformat": 4,
 "nbformat_minor": 2
}
